{
 "cells": [
  {
   "cell_type": "markdown",
   "metadata": {},
   "source": [
    "#### Blackjack (Simple 21) Game\n",
    "OOP and Testing Practice"
   ]
  },
  {
   "cell_type": "markdown",
   "metadata": {},
   "source": [
    "***"
   ]
  },
  {
   "cell_type": "markdown",
   "metadata": {},
   "source": [
    "Basic Blackjack Rules (from [HitOrStand.net](http://www.hitorstand.net/strategy.php))\n",
    "\n",
    "1. The goal of blackjack is to beat the dealer's hand without going over 21.\n",
    "2. Face cards are worth 10. Aces are worth 1 or 11, whichever makes a better hand.\n",
    "3. Each player starts with two cards, one of the dealer's cards is hidden until the end.\n",
    "4. To 'Hit' is to ask for another card. To 'Stand' is to hold your total and end your turn.\n",
    "5. If you go over 21 you bust, and the dealer wins regardless of the dealer's hand.\n",
    "6. If you are dealt 21 from the start (Ace & 10), you got a blackjack.\n",
    "7. Blackjack usually means you win 1.5 the amount of your bet. Depends on the casino.\n",
    "8. Dealer will hit until his/her cards total 17 or higher.\n",
    "9. Doubling is like a hit, only the bet is doubled and you only get one more card.\n",
    "10. Split can be done when you have two of the same card - the pair is split into two hands.\n",
    "11. Splitting also doubles the bet, because each new hand is worth the original bet.\n",
    "12. You can only double/split on the first move, or first move of a hand created by a split.\n",
    "13. You cannot play on two aces after they are split.\n",
    "14. You can double on a hand resulting from a split, tripling or quadrupling you bet."
   ]
  },
  {
   "cell_type": "markdown",
   "metadata": {},
   "source": [
    "***"
   ]
  },
  {
   "cell_type": "markdown",
   "metadata": {},
   "source": [
    "#### Blackjack (For Fun, i.e. no money.)"
   ]
  },
  {
   "cell_type": "code",
   "execution_count": 1,
   "metadata": {},
   "outputs": [],
   "source": [
    "from random import shuffle, choice\n",
    "\n",
    "suitsList = ('Hearts','Clubs','Spades','Diamonds')\n",
    "ranksList = ('A','2','3','4','5','6','7','8','9','10','J','Q','K')\n",
    "\n",
    "rankvalsList = {'A':1,'2':2,'3':3,'4':4,'5':5,\n",
    "                '6':6,'7':7,'8':8,'9':9,'10':10,\n",
    "                'J':11,'Q':12,'K':13}\n",
    "\n",
    "def createDeck(suits,ranks):\n",
    "    deck = []\n",
    "    for suit in suits:\n",
    "        for rank in ranks:\n",
    "            deck.append(rank +' '+ suit)\n",
    "    \n",
    "    return deck\n",
    "\n",
    "class Deck():\n",
    "    \n",
    "    def __init__(self,suits,ranks):\n",
    "        \"\"\"Deck is a list.\n",
    "            Create a Deck, shuffle, and assign it to the object.\"\"\"\n",
    "        deck0 = createDeck(suits,ranks)\n",
    "        shuffle(deck0)\n",
    "        self.deck = deck0\n",
    "        \n",
    "    def getDeck(self):\n",
    "        return self.deck\n",
    "    \n",
    "    def drawCard(self):\n",
    "        card = choice(self.deck)\n",
    "        self.deck.remove(card)\n",
    "        return card"
   ]
  },
  {
   "cell_type": "code",
   "execution_count": 3,
   "metadata": {
    "collapsed": true,
    "jupyter": {
     "outputs_hidden": true
    }
   },
   "outputs": [
    {
     "name": "stdout",
     "output_type": "stream",
     "text": [
      "9 Spades\n",
      "['Q Spades', '7 Diamonds', 'J Clubs', '3 Hearts', '7 Spades', '7 Hearts', '6 Clubs', 'Q Diamonds', '6 Diamonds', '10 Spades', 'Q Hearts', 'J Spades', '2 Clubs', '4 Diamonds', '6 Spades', '2 Spades', 'K Spades', '8 Clubs', 'A Spades', '4 Hearts', '8 Hearts', 'A Diamonds', '8 Diamonds', '10 Diamonds', '3 Clubs', 'A Clubs', '10 Clubs', '5 Clubs', '10 Hearts', '4 Clubs', 'K Clubs', '9 Clubs', '5 Hearts', 'K Hearts', '5 Spades', '3 Diamonds', '9 Diamonds', 'J Hearts', '7 Clubs', 'J Diamonds', '5 Diamonds', 'Q Clubs', '2 Diamonds', '4 Spades', '8 Spades', 'K Diamonds', '9 Hearts', '6 Hearts', 'A Hearts', '2 Hearts', '3 Spades']\n",
      "K Diamonds\n",
      "['Q Spades', '7 Diamonds', 'J Clubs', '3 Hearts', '7 Spades', '7 Hearts', '6 Clubs', 'Q Diamonds', '6 Diamonds', '10 Spades', 'Q Hearts', 'J Spades', '2 Clubs', '4 Diamonds', '6 Spades', '2 Spades', 'K Spades', '8 Clubs', 'A Spades', '4 Hearts', '8 Hearts', 'A Diamonds', '8 Diamonds', '10 Diamonds', '3 Clubs', 'A Clubs', '10 Clubs', '5 Clubs', '10 Hearts', '4 Clubs', 'K Clubs', '9 Clubs', '5 Hearts', 'K Hearts', '5 Spades', '3 Diamonds', '9 Diamonds', 'J Hearts', '7 Clubs', 'J Diamonds', '5 Diamonds', 'Q Clubs', '2 Diamonds', '4 Spades', '8 Spades', '9 Hearts', '6 Hearts', 'A Hearts', '2 Hearts', '3 Spades']\n",
      "8 Spades\n",
      "['Q Spades', '7 Diamonds', 'J Clubs', '3 Hearts', '7 Spades', '7 Hearts', '6 Clubs', 'Q Diamonds', '6 Diamonds', '10 Spades', 'Q Hearts', 'J Spades', '2 Clubs', '4 Diamonds', '6 Spades', '2 Spades', 'K Spades', '8 Clubs', 'A Spades', '4 Hearts', '8 Hearts', 'A Diamonds', '8 Diamonds', '10 Diamonds', '3 Clubs', 'A Clubs', '10 Clubs', '5 Clubs', '10 Hearts', '4 Clubs', 'K Clubs', '9 Clubs', '5 Hearts', 'K Hearts', '5 Spades', '3 Diamonds', '9 Diamonds', 'J Hearts', '7 Clubs', 'J Diamonds', '5 Diamonds', 'Q Clubs', '2 Diamonds', '4 Spades', '9 Hearts', '6 Hearts', 'A Hearts', '2 Hearts', '3 Spades']\n",
      "7 Spades\n",
      "['Q Spades', '7 Diamonds', 'J Clubs', '3 Hearts', '7 Hearts', '6 Clubs', 'Q Diamonds', '6 Diamonds', '10 Spades', 'Q Hearts', 'J Spades', '2 Clubs', '4 Diamonds', '6 Spades', '2 Spades', 'K Spades', '8 Clubs', 'A Spades', '4 Hearts', '8 Hearts', 'A Diamonds', '8 Diamonds', '10 Diamonds', '3 Clubs', 'A Clubs', '10 Clubs', '5 Clubs', '10 Hearts', '4 Clubs', 'K Clubs', '9 Clubs', '5 Hearts', 'K Hearts', '5 Spades', '3 Diamonds', '9 Diamonds', 'J Hearts', '7 Clubs', 'J Diamonds', '5 Diamonds', 'Q Clubs', '2 Diamonds', '4 Spades', '9 Hearts', '6 Hearts', 'A Hearts', '2 Hearts', '3 Spades']\n",
      "6 Hearts\n",
      "['Q Spades', '7 Diamonds', 'J Clubs', '3 Hearts', '7 Hearts', '6 Clubs', 'Q Diamonds', '6 Diamonds', '10 Spades', 'Q Hearts', 'J Spades', '2 Clubs', '4 Diamonds', '6 Spades', '2 Spades', 'K Spades', '8 Clubs', 'A Spades', '4 Hearts', '8 Hearts', 'A Diamonds', '8 Diamonds', '10 Diamonds', '3 Clubs', 'A Clubs', '10 Clubs', '5 Clubs', '10 Hearts', '4 Clubs', 'K Clubs', '9 Clubs', '5 Hearts', 'K Hearts', '5 Spades', '3 Diamonds', '9 Diamonds', 'J Hearts', '7 Clubs', 'J Diamonds', '5 Diamonds', 'Q Clubs', '2 Diamonds', '4 Spades', '9 Hearts', 'A Hearts', '2 Hearts', '3 Spades']\n",
      "J Clubs\n",
      "['Q Spades', '7 Diamonds', '3 Hearts', '7 Hearts', '6 Clubs', 'Q Diamonds', '6 Diamonds', '10 Spades', 'Q Hearts', 'J Spades', '2 Clubs', '4 Diamonds', '6 Spades', '2 Spades', 'K Spades', '8 Clubs', 'A Spades', '4 Hearts', '8 Hearts', 'A Diamonds', '8 Diamonds', '10 Diamonds', '3 Clubs', 'A Clubs', '10 Clubs', '5 Clubs', '10 Hearts', '4 Clubs', 'K Clubs', '9 Clubs', '5 Hearts', 'K Hearts', '5 Spades', '3 Diamonds', '9 Diamonds', 'J Hearts', '7 Clubs', 'J Diamonds', '5 Diamonds', 'Q Clubs', '2 Diamonds', '4 Spades', '9 Hearts', 'A Hearts', '2 Hearts', '3 Spades']\n",
      "7 Hearts\n",
      "['Q Spades', '7 Diamonds', '3 Hearts', '6 Clubs', 'Q Diamonds', '6 Diamonds', '10 Spades', 'Q Hearts', 'J Spades', '2 Clubs', '4 Diamonds', '6 Spades', '2 Spades', 'K Spades', '8 Clubs', 'A Spades', '4 Hearts', '8 Hearts', 'A Diamonds', '8 Diamonds', '10 Diamonds', '3 Clubs', 'A Clubs', '10 Clubs', '5 Clubs', '10 Hearts', '4 Clubs', 'K Clubs', '9 Clubs', '5 Hearts', 'K Hearts', '5 Spades', '3 Diamonds', '9 Diamonds', 'J Hearts', '7 Clubs', 'J Diamonds', '5 Diamonds', 'Q Clubs', '2 Diamonds', '4 Spades', '9 Hearts', 'A Hearts', '2 Hearts', '3 Spades']\n",
      "J Spades\n",
      "['Q Spades', '7 Diamonds', '3 Hearts', '6 Clubs', 'Q Diamonds', '6 Diamonds', '10 Spades', 'Q Hearts', '2 Clubs', '4 Diamonds', '6 Spades', '2 Spades', 'K Spades', '8 Clubs', 'A Spades', '4 Hearts', '8 Hearts', 'A Diamonds', '8 Diamonds', '10 Diamonds', '3 Clubs', 'A Clubs', '10 Clubs', '5 Clubs', '10 Hearts', '4 Clubs', 'K Clubs', '9 Clubs', '5 Hearts', 'K Hearts', '5 Spades', '3 Diamonds', '9 Diamonds', 'J Hearts', '7 Clubs', 'J Diamonds', '5 Diamonds', 'Q Clubs', '2 Diamonds', '4 Spades', '9 Hearts', 'A Hearts', '2 Hearts', '3 Spades']\n",
      "K Clubs\n",
      "['Q Spades', '7 Diamonds', '3 Hearts', '6 Clubs', 'Q Diamonds', '6 Diamonds', '10 Spades', 'Q Hearts', '2 Clubs', '4 Diamonds', '6 Spades', '2 Spades', 'K Spades', '8 Clubs', 'A Spades', '4 Hearts', '8 Hearts', 'A Diamonds', '8 Diamonds', '10 Diamonds', '3 Clubs', 'A Clubs', '10 Clubs', '5 Clubs', '10 Hearts', '4 Clubs', '9 Clubs', '5 Hearts', 'K Hearts', '5 Spades', '3 Diamonds', '9 Diamonds', 'J Hearts', '7 Clubs', 'J Diamonds', '5 Diamonds', 'Q Clubs', '2 Diamonds', '4 Spades', '9 Hearts', 'A Hearts', '2 Hearts', '3 Spades']\n",
      "J Diamonds\n",
      "['Q Spades', '7 Diamonds', '3 Hearts', '6 Clubs', 'Q Diamonds', '6 Diamonds', '10 Spades', 'Q Hearts', '2 Clubs', '4 Diamonds', '6 Spades', '2 Spades', 'K Spades', '8 Clubs', 'A Spades', '4 Hearts', '8 Hearts', 'A Diamonds', '8 Diamonds', '10 Diamonds', '3 Clubs', 'A Clubs', '10 Clubs', '5 Clubs', '10 Hearts', '4 Clubs', '9 Clubs', '5 Hearts', 'K Hearts', '5 Spades', '3 Diamonds', '9 Diamonds', 'J Hearts', '7 Clubs', '5 Diamonds', 'Q Clubs', '2 Diamonds', '4 Spades', '9 Hearts', 'A Hearts', '2 Hearts', '3 Spades']\n",
      "Q Diamonds\n",
      "['Q Spades', '7 Diamonds', '3 Hearts', '6 Clubs', '6 Diamonds', '10 Spades', 'Q Hearts', '2 Clubs', '4 Diamonds', '6 Spades', '2 Spades', 'K Spades', '8 Clubs', 'A Spades', '4 Hearts', '8 Hearts', 'A Diamonds', '8 Diamonds', '10 Diamonds', '3 Clubs', 'A Clubs', '10 Clubs', '5 Clubs', '10 Hearts', '4 Clubs', '9 Clubs', '5 Hearts', 'K Hearts', '5 Spades', '3 Diamonds', '9 Diamonds', 'J Hearts', '7 Clubs', '5 Diamonds', 'Q Clubs', '2 Diamonds', '4 Spades', '9 Hearts', 'A Hearts', '2 Hearts', '3 Spades']\n",
      "7 Diamonds\n",
      "['Q Spades', '3 Hearts', '6 Clubs', '6 Diamonds', '10 Spades', 'Q Hearts', '2 Clubs', '4 Diamonds', '6 Spades', '2 Spades', 'K Spades', '8 Clubs', 'A Spades', '4 Hearts', '8 Hearts', 'A Diamonds', '8 Diamonds', '10 Diamonds', '3 Clubs', 'A Clubs', '10 Clubs', '5 Clubs', '10 Hearts', '4 Clubs', '9 Clubs', '5 Hearts', 'K Hearts', '5 Spades', '3 Diamonds', '9 Diamonds', 'J Hearts', '7 Clubs', '5 Diamonds', 'Q Clubs', '2 Diamonds', '4 Spades', '9 Hearts', 'A Hearts', '2 Hearts', '3 Spades']\n",
      "3 Hearts\n",
      "['Q Spades', '6 Clubs', '6 Diamonds', '10 Spades', 'Q Hearts', '2 Clubs', '4 Diamonds', '6 Spades', '2 Spades', 'K Spades', '8 Clubs', 'A Spades', '4 Hearts', '8 Hearts', 'A Diamonds', '8 Diamonds', '10 Diamonds', '3 Clubs', 'A Clubs', '10 Clubs', '5 Clubs', '10 Hearts', '4 Clubs', '9 Clubs', '5 Hearts', 'K Hearts', '5 Spades', '3 Diamonds', '9 Diamonds', 'J Hearts', '7 Clubs', '5 Diamonds', 'Q Clubs', '2 Diamonds', '4 Spades', '9 Hearts', 'A Hearts', '2 Hearts', '3 Spades']\n",
      "10 Spades\n",
      "['Q Spades', '6 Clubs', '6 Diamonds', 'Q Hearts', '2 Clubs', '4 Diamonds', '6 Spades', '2 Spades', 'K Spades', '8 Clubs', 'A Spades', '4 Hearts', '8 Hearts', 'A Diamonds', '8 Diamonds', '10 Diamonds', '3 Clubs', 'A Clubs', '10 Clubs', '5 Clubs', '10 Hearts', '4 Clubs', '9 Clubs', '5 Hearts', 'K Hearts', '5 Spades', '3 Diamonds', '9 Diamonds', 'J Hearts', '7 Clubs', '5 Diamonds', 'Q Clubs', '2 Diamonds', '4 Spades', '9 Hearts', 'A Hearts', '2 Hearts', '3 Spades']\n",
      "K Spades\n",
      "['Q Spades', '6 Clubs', '6 Diamonds', 'Q Hearts', '2 Clubs', '4 Diamonds', '6 Spades', '2 Spades', '8 Clubs', 'A Spades', '4 Hearts', '8 Hearts', 'A Diamonds', '8 Diamonds', '10 Diamonds', '3 Clubs', 'A Clubs', '10 Clubs', '5 Clubs', '10 Hearts', '4 Clubs', '9 Clubs', '5 Hearts', 'K Hearts', '5 Spades', '3 Diamonds', '9 Diamonds', 'J Hearts', '7 Clubs', '5 Diamonds', 'Q Clubs', '2 Diamonds', '4 Spades', '9 Hearts', 'A Hearts', '2 Hearts', '3 Spades']\n",
      "7 Clubs\n",
      "['Q Spades', '6 Clubs', '6 Diamonds', 'Q Hearts', '2 Clubs', '4 Diamonds', '6 Spades', '2 Spades', '8 Clubs', 'A Spades', '4 Hearts', '8 Hearts', 'A Diamonds', '8 Diamonds', '10 Diamonds', '3 Clubs', 'A Clubs', '10 Clubs', '5 Clubs', '10 Hearts', '4 Clubs', '9 Clubs', '5 Hearts', 'K Hearts', '5 Spades', '3 Diamonds', '9 Diamonds', 'J Hearts', '5 Diamonds', 'Q Clubs', '2 Diamonds', '4 Spades', '9 Hearts', 'A Hearts', '2 Hearts', '3 Spades']\n",
      "J Hearts\n",
      "['Q Spades', '6 Clubs', '6 Diamonds', 'Q Hearts', '2 Clubs', '4 Diamonds', '6 Spades', '2 Spades', '8 Clubs', 'A Spades', '4 Hearts', '8 Hearts', 'A Diamonds', '8 Diamonds', '10 Diamonds', '3 Clubs', 'A Clubs', '10 Clubs', '5 Clubs', '10 Hearts', '4 Clubs', '9 Clubs', '5 Hearts', 'K Hearts', '5 Spades', '3 Diamonds', '9 Diamonds', '5 Diamonds', 'Q Clubs', '2 Diamonds', '4 Spades', '9 Hearts', 'A Hearts', '2 Hearts', '3 Spades']\n",
      "8 Diamonds\n",
      "['Q Spades', '6 Clubs', '6 Diamonds', 'Q Hearts', '2 Clubs', '4 Diamonds', '6 Spades', '2 Spades', '8 Clubs', 'A Spades', '4 Hearts', '8 Hearts', 'A Diamonds', '10 Diamonds', '3 Clubs', 'A Clubs', '10 Clubs', '5 Clubs', '10 Hearts', '4 Clubs', '9 Clubs', '5 Hearts', 'K Hearts', '5 Spades', '3 Diamonds', '9 Diamonds', '5 Diamonds', 'Q Clubs', '2 Diamonds', '4 Spades', '9 Hearts', 'A Hearts', '2 Hearts', '3 Spades']\n",
      "5 Hearts\n",
      "['Q Spades', '6 Clubs', '6 Diamonds', 'Q Hearts', '2 Clubs', '4 Diamonds', '6 Spades', '2 Spades', '8 Clubs', 'A Spades', '4 Hearts', '8 Hearts', 'A Diamonds', '10 Diamonds', '3 Clubs', 'A Clubs', '10 Clubs', '5 Clubs', '10 Hearts', '4 Clubs', '9 Clubs', 'K Hearts', '5 Spades', '3 Diamonds', '9 Diamonds', '5 Diamonds', 'Q Clubs', '2 Diamonds', '4 Spades', '9 Hearts', 'A Hearts', '2 Hearts', '3 Spades']\n",
      "4 Diamonds\n",
      "['Q Spades', '6 Clubs', '6 Diamonds', 'Q Hearts', '2 Clubs', '6 Spades', '2 Spades', '8 Clubs', 'A Spades', '4 Hearts', '8 Hearts', 'A Diamonds', '10 Diamonds', '3 Clubs', 'A Clubs', '10 Clubs', '5 Clubs', '10 Hearts', '4 Clubs', '9 Clubs', 'K Hearts', '5 Spades', '3 Diamonds', '9 Diamonds', '5 Diamonds', 'Q Clubs', '2 Diamonds', '4 Spades', '9 Hearts', 'A Hearts', '2 Hearts', '3 Spades']\n",
      "Q Hearts\n",
      "['Q Spades', '6 Clubs', '6 Diamonds', '2 Clubs', '6 Spades', '2 Spades', '8 Clubs', 'A Spades', '4 Hearts', '8 Hearts', 'A Diamonds', '10 Diamonds', '3 Clubs', 'A Clubs', '10 Clubs', '5 Clubs', '10 Hearts', '4 Clubs', '9 Clubs', 'K Hearts', '5 Spades', '3 Diamonds', '9 Diamonds', '5 Diamonds', 'Q Clubs', '2 Diamonds', '4 Spades', '9 Hearts', 'A Hearts', '2 Hearts', '3 Spades']\n",
      "10 Diamonds\n",
      "['Q Spades', '6 Clubs', '6 Diamonds', '2 Clubs', '6 Spades', '2 Spades', '8 Clubs', 'A Spades', '4 Hearts', '8 Hearts', 'A Diamonds', '3 Clubs', 'A Clubs', '10 Clubs', '5 Clubs', '10 Hearts', '4 Clubs', '9 Clubs', 'K Hearts', '5 Spades', '3 Diamonds', '9 Diamonds', '5 Diamonds', 'Q Clubs', '2 Diamonds', '4 Spades', '9 Hearts', 'A Hearts', '2 Hearts', '3 Spades']\n",
      "9 Diamonds\n",
      "['Q Spades', '6 Clubs', '6 Diamonds', '2 Clubs', '6 Spades', '2 Spades', '8 Clubs', 'A Spades', '4 Hearts', '8 Hearts', 'A Diamonds', '3 Clubs', 'A Clubs', '10 Clubs', '5 Clubs', '10 Hearts', '4 Clubs', '9 Clubs', 'K Hearts', '5 Spades', '3 Diamonds', '5 Diamonds', 'Q Clubs', '2 Diamonds', '4 Spades', '9 Hearts', 'A Hearts', '2 Hearts', '3 Spades']\n",
      "K Hearts\n",
      "['Q Spades', '6 Clubs', '6 Diamonds', '2 Clubs', '6 Spades', '2 Spades', '8 Clubs', 'A Spades', '4 Hearts', '8 Hearts', 'A Diamonds', '3 Clubs', 'A Clubs', '10 Clubs', '5 Clubs', '10 Hearts', '4 Clubs', '9 Clubs', '5 Spades', '3 Diamonds', '5 Diamonds', 'Q Clubs', '2 Diamonds', '4 Spades', '9 Hearts', 'A Hearts', '2 Hearts', '3 Spades']\n",
      "3 Diamonds\n",
      "['Q Spades', '6 Clubs', '6 Diamonds', '2 Clubs', '6 Spades', '2 Spades', '8 Clubs', 'A Spades', '4 Hearts', '8 Hearts', 'A Diamonds', '3 Clubs', 'A Clubs', '10 Clubs', '5 Clubs', '10 Hearts', '4 Clubs', '9 Clubs', '5 Spades', '5 Diamonds', 'Q Clubs', '2 Diamonds', '4 Spades', '9 Hearts', 'A Hearts', '2 Hearts', '3 Spades']\n",
      "5 Diamonds\n",
      "['Q Spades', '6 Clubs', '6 Diamonds', '2 Clubs', '6 Spades', '2 Spades', '8 Clubs', 'A Spades', '4 Hearts', '8 Hearts', 'A Diamonds', '3 Clubs', 'A Clubs', '10 Clubs', '5 Clubs', '10 Hearts', '4 Clubs', '9 Clubs', '5 Spades', 'Q Clubs', '2 Diamonds', '4 Spades', '9 Hearts', 'A Hearts', '2 Hearts', '3 Spades']\n",
      "4 Hearts\n",
      "['Q Spades', '6 Clubs', '6 Diamonds', '2 Clubs', '6 Spades', '2 Spades', '8 Clubs', 'A Spades', '8 Hearts', 'A Diamonds', '3 Clubs', 'A Clubs', '10 Clubs', '5 Clubs', '10 Hearts', '4 Clubs', '9 Clubs', '5 Spades', 'Q Clubs', '2 Diamonds', '4 Spades', '9 Hearts', 'A Hearts', '2 Hearts', '3 Spades']\n",
      "8 Hearts\n",
      "['Q Spades', '6 Clubs', '6 Diamonds', '2 Clubs', '6 Spades', '2 Spades', '8 Clubs', 'A Spades', 'A Diamonds', '3 Clubs', 'A Clubs', '10 Clubs', '5 Clubs', '10 Hearts', '4 Clubs', '9 Clubs', '5 Spades', 'Q Clubs', '2 Diamonds', '4 Spades', '9 Hearts', 'A Hearts', '2 Hearts', '3 Spades']\n",
      "8 Clubs\n",
      "['Q Spades', '6 Clubs', '6 Diamonds', '2 Clubs', '6 Spades', '2 Spades', 'A Spades', 'A Diamonds', '3 Clubs', 'A Clubs', '10 Clubs', '5 Clubs', '10 Hearts', '4 Clubs', '9 Clubs', '5 Spades', 'Q Clubs', '2 Diamonds', '4 Spades', '9 Hearts', 'A Hearts', '2 Hearts', '3 Spades']\n",
      "A Diamonds\n",
      "['Q Spades', '6 Clubs', '6 Diamonds', '2 Clubs', '6 Spades', '2 Spades', 'A Spades', '3 Clubs', 'A Clubs', '10 Clubs', '5 Clubs', '10 Hearts', '4 Clubs', '9 Clubs', '5 Spades', 'Q Clubs', '2 Diamonds', '4 Spades', '9 Hearts', 'A Hearts', '2 Hearts', '3 Spades']\n",
      "10 Hearts\n",
      "['Q Spades', '6 Clubs', '6 Diamonds', '2 Clubs', '6 Spades', '2 Spades', 'A Spades', '3 Clubs', 'A Clubs', '10 Clubs', '5 Clubs', '4 Clubs', '9 Clubs', '5 Spades', 'Q Clubs', '2 Diamonds', '4 Spades', '9 Hearts', 'A Hearts', '2 Hearts', '3 Spades']\n",
      "5 Clubs\n",
      "['Q Spades', '6 Clubs', '6 Diamonds', '2 Clubs', '6 Spades', '2 Spades', 'A Spades', '3 Clubs', 'A Clubs', '10 Clubs', '4 Clubs', '9 Clubs', '5 Spades', 'Q Clubs', '2 Diamonds', '4 Spades', '9 Hearts', 'A Hearts', '2 Hearts', '3 Spades']\n",
      "A Clubs\n",
      "['Q Spades', '6 Clubs', '6 Diamonds', '2 Clubs', '6 Spades', '2 Spades', 'A Spades', '3 Clubs', '10 Clubs', '4 Clubs', '9 Clubs', '5 Spades', 'Q Clubs', '2 Diamonds', '4 Spades', '9 Hearts', 'A Hearts', '2 Hearts', '3 Spades']\n",
      "9 Hearts\n",
      "['Q Spades', '6 Clubs', '6 Diamonds', '2 Clubs', '6 Spades', '2 Spades', 'A Spades', '3 Clubs', '10 Clubs', '4 Clubs', '9 Clubs', '5 Spades', 'Q Clubs', '2 Diamonds', '4 Spades', 'A Hearts', '2 Hearts', '3 Spades']\n",
      "A Hearts\n",
      "['Q Spades', '6 Clubs', '6 Diamonds', '2 Clubs', '6 Spades', '2 Spades', 'A Spades', '3 Clubs', '10 Clubs', '4 Clubs', '9 Clubs', '5 Spades', 'Q Clubs', '2 Diamonds', '4 Spades', '2 Hearts', '3 Spades']\n",
      "3 Clubs\n",
      "['Q Spades', '6 Clubs', '6 Diamonds', '2 Clubs', '6 Spades', '2 Spades', 'A Spades', '10 Clubs', '4 Clubs', '9 Clubs', '5 Spades', 'Q Clubs', '2 Diamonds', '4 Spades', '2 Hearts', '3 Spades']\n",
      "2 Clubs\n",
      "['Q Spades', '6 Clubs', '6 Diamonds', '6 Spades', '2 Spades', 'A Spades', '10 Clubs', '4 Clubs', '9 Clubs', '5 Spades', 'Q Clubs', '2 Diamonds', '4 Spades', '2 Hearts', '3 Spades']\n",
      "A Spades\n",
      "['Q Spades', '6 Clubs', '6 Diamonds', '6 Spades', '2 Spades', '10 Clubs', '4 Clubs', '9 Clubs', '5 Spades', 'Q Clubs', '2 Diamonds', '4 Spades', '2 Hearts', '3 Spades']\n",
      "Q Clubs\n",
      "['Q Spades', '6 Clubs', '6 Diamonds', '6 Spades', '2 Spades', '10 Clubs', '4 Clubs', '9 Clubs', '5 Spades', '2 Diamonds', '4 Spades', '2 Hearts', '3 Spades']\n",
      "5 Spades\n",
      "['Q Spades', '6 Clubs', '6 Diamonds', '6 Spades', '2 Spades', '10 Clubs', '4 Clubs', '9 Clubs', '2 Diamonds', '4 Spades', '2 Hearts', '3 Spades']\n",
      "2 Spades\n",
      "['Q Spades', '6 Clubs', '6 Diamonds', '6 Spades', '10 Clubs', '4 Clubs', '9 Clubs', '2 Diamonds', '4 Spades', '2 Hearts', '3 Spades']\n",
      "10 Clubs\n",
      "['Q Spades', '6 Clubs', '6 Diamonds', '6 Spades', '4 Clubs', '9 Clubs', '2 Diamonds', '4 Spades', '2 Hearts', '3 Spades']\n",
      "6 Diamonds\n",
      "['Q Spades', '6 Clubs', '6 Spades', '4 Clubs', '9 Clubs', '2 Diamonds', '4 Spades', '2 Hearts', '3 Spades']\n",
      "4 Spades\n",
      "['Q Spades', '6 Clubs', '6 Spades', '4 Clubs', '9 Clubs', '2 Diamonds', '2 Hearts', '3 Spades']\n",
      "4 Clubs\n",
      "['Q Spades', '6 Clubs', '6 Spades', '9 Clubs', '2 Diamonds', '2 Hearts', '3 Spades']\n",
      "3 Spades\n",
      "['Q Spades', '6 Clubs', '6 Spades', '9 Clubs', '2 Diamonds', '2 Hearts']\n",
      "2 Diamonds\n",
      "['Q Spades', '6 Clubs', '6 Spades', '9 Clubs', '2 Hearts']\n",
      "2 Hearts\n",
      "['Q Spades', '6 Clubs', '6 Spades', '9 Clubs']\n",
      "6 Clubs\n",
      "['Q Spades', '6 Spades', '9 Clubs']\n",
      "6 Spades\n",
      "['Q Spades', '9 Clubs']\n",
      "Q Spades\n",
      "['9 Clubs']\n",
      "9 Clubs\n",
      "[]\n"
     ]
    }
   ],
   "source": [
    "# Test to make sure all cards are selectable \n",
    "deck1 = Deck(suitsList,ranksList)\n",
    "\n",
    "for i in range(52):\n",
    "    print(deck1.drawCard())\n",
    "    print(deck1.getDeck())"
   ]
  },
  {
   "cell_type": "code",
   "execution_count": 4,
   "metadata": {},
   "outputs": [],
   "source": [
    "def getSum(hand):\n",
    "    total = 0\n",
    "    for card in hand:\n",
    "        total += rankvalsList[card[:card.index(' ')]]\n",
    "        \n",
    "    return total\n",
    "\n",
    "# Consider making Player a super class of Dealer\n",
    "class Player:\n",
    "    \n",
    "    def __init__(self):\n",
    "        self.name = input('Please enter your name: ')\n",
    "        self.currentHand = []\n",
    "        self.currentScore = 0\n",
    "        \n",
    "    def drawCard(self,deck):\n",
    "        \"\"\"Assumes deck is an object of type Deck.\n",
    "            Uses drawCard method from Deck class.\"\"\"\n",
    "        card = deck.drawCard()\n",
    "        self.currentHand.append(card)\n",
    "        print(self.name,'got',card)\n",
    "        return None\n",
    "    \n",
    "    def hitorstand(self,deck):\n",
    "        hos = input(\"Hit (H) or Stand (S): \")\n",
    "        if hos == 'H':\n",
    "            self.drawCard(deck)\n",
    "        elif hos == 'S':\n",
    "            return None\n",
    "        \n",
    "    def getHand(self):\n",
    "        return self.currentHand\n",
    "    \n",
    "    def getScore(self):\n",
    "        self.currentScore = getSum(self.currentHand)\n",
    "        return self.currentScore"
   ]
  },
  {
   "cell_type": "code",
   "execution_count": 5,
   "metadata": {},
   "outputs": [],
   "source": [
    "# Simple version: Just have player class, i.e. dealer is just another player\n",
    "class Dealer(Player):\n",
    "    pass\n",
    "    #def __init__(self):\n",
    "    #    Player.__init__(self)"
   ]
  },
  {
   "cell_type": "code",
   "execution_count": 6,
   "metadata": {
    "collapsed": true,
    "jupyter": {
     "outputs_hidden": true
    }
   },
   "outputs": [
    {
     "name": "stdin",
     "output_type": "stream",
     "text": [
      "Please enter your name:  P\n"
     ]
    },
    {
     "name": "stdout",
     "output_type": "stream",
     "text": [
      "P got Q Clubs\n",
      "12\n",
      "P got 10 Diamonds\n",
      "22\n",
      "P got 4 Diamonds\n",
      "26\n",
      "P got 5 Hearts\n",
      "31\n",
      "P got 4 Clubs\n",
      "35\n",
      "P got 7 Hearts\n",
      "42\n",
      "P got 3 Hearts\n",
      "45\n",
      "P got 9 Diamonds\n",
      "54\n",
      "P got 5 Diamonds\n",
      "59\n",
      "P got K Diamonds\n",
      "72\n",
      "P got 4 Spades\n",
      "76\n",
      "P got K Clubs\n",
      "89\n",
      "P got J Spades\n",
      "100\n",
      "P got J Diamonds\n",
      "111\n",
      "P got 8 Hearts\n",
      "119\n",
      "P got 10 Hearts\n",
      "129\n",
      "P got 8 Spades\n",
      "137\n",
      "P got J Clubs\n",
      "148\n",
      "P got 6 Hearts\n",
      "154\n",
      "P got 3 Clubs\n",
      "157\n",
      "P got 7 Spades\n",
      "164\n",
      "P got A Clubs\n",
      "165\n",
      "P got Q Spades\n",
      "177\n",
      "P got 3 Spades\n",
      "180\n",
      "P got Q Diamonds\n",
      "192\n",
      "P got 8 Clubs\n",
      "200\n",
      "P got 6 Spades\n",
      "206\n",
      "P got 9 Clubs\n",
      "215\n",
      "P got 10 Spades\n",
      "225\n",
      "P got 5 Spades\n",
      "230\n",
      "P got 10 Clubs\n",
      "240\n",
      "P got A Diamonds\n",
      "241\n",
      "P got 9 Hearts\n",
      "250\n",
      "P got 7 Clubs\n",
      "257\n",
      "P got K Hearts\n",
      "270\n",
      "P got 5 Clubs\n",
      "275\n",
      "P got 2 Clubs\n",
      "277\n",
      "P got 8 Diamonds\n",
      "285\n",
      "P got A Spades\n",
      "286\n",
      "P got Q Hearts\n",
      "298\n",
      "P got J Hearts\n",
      "309\n",
      "P got 3 Diamonds\n",
      "312\n",
      "P got 7 Diamonds\n",
      "319\n",
      "P got 4 Hearts\n",
      "323\n",
      "P got K Spades\n",
      "336\n",
      "P got 6 Diamonds\n",
      "342\n",
      "P got 6 Clubs\n",
      "348\n",
      "P got 2 Hearts\n",
      "350\n",
      "P got 2 Diamonds\n",
      "352\n",
      "P got A Hearts\n",
      "353\n",
      "P got 9 Spades\n",
      "362\n",
      "P got 2 Spades\n",
      "364\n"
     ]
    }
   ],
   "source": [
    "# Testing drawCard, getHand, and getScore for Dealer\n",
    "deck1 = Deck(suitsList,ranksList)\n",
    "tony = Dealer()\n",
    "\n",
    "while len(deck1.getDeck()) > 0:\n",
    "    tony.drawCard(deck1)\n",
    "    tony.getHand()\n",
    "    print(tony.getScore())"
   ]
  },
  {
   "cell_type": "code",
   "execution_count": 7,
   "metadata": {
    "collapsed": true,
    "jupyter": {
     "outputs_hidden": true
    }
   },
   "outputs": [
    {
     "name": "stdin",
     "output_type": "stream",
     "text": [
      "Please enter your name:  P\n",
      "Please enter your name:  K\n"
     ]
    },
    {
     "name": "stdout",
     "output_type": "stream",
     "text": [
      "P got 10 Diamonds\n",
      "10\n",
      "K got 5 Hearts\n",
      "5\n",
      "P got 10 Clubs\n",
      "20\n",
      "K got 3 Diamonds\n",
      "8\n",
      "P got 7 Clubs\n",
      "27\n",
      "K got 2 Spades\n",
      "10\n",
      "P got 3 Clubs\n",
      "30\n",
      "K got K Clubs\n",
      "23\n",
      "P got 2 Diamonds\n",
      "32\n",
      "K got 9 Spades\n",
      "32\n",
      "P got K Hearts\n",
      "45\n",
      "K got 7 Spades\n",
      "39\n",
      "P got 7 Hearts\n",
      "52\n",
      "K got 2 Clubs\n",
      "41\n",
      "P got J Spades\n",
      "63\n",
      "K got 6 Hearts\n",
      "47\n",
      "P got A Diamonds\n",
      "64\n",
      "K got 6 Spades\n",
      "53\n",
      "P got J Clubs\n",
      "75\n",
      "K got 10 Spades\n",
      "63\n",
      "P got 8 Clubs\n",
      "83\n",
      "K got 6 Diamonds\n",
      "69\n",
      "P got A Spades\n",
      "84\n",
      "K got 6 Clubs\n",
      "75\n",
      "P got 3 Hearts\n",
      "87\n",
      "K got 8 Diamonds\n",
      "83\n",
      "P got K Spades\n",
      "100\n",
      "K got K Diamonds\n",
      "96\n",
      "P got 5 Clubs\n",
      "105\n",
      "K got 2 Hearts\n",
      "98\n",
      "P got Q Hearts\n",
      "117\n",
      "K got 4 Spades\n",
      "102\n",
      "P got 9 Clubs\n",
      "126\n",
      "K got 9 Hearts\n",
      "111\n",
      "P got 9 Diamonds\n",
      "135\n",
      "K got 8 Spades\n",
      "119\n",
      "P got 7 Diamonds\n",
      "142\n",
      "K got A Clubs\n",
      "120\n",
      "P got Q Diamonds\n",
      "154\n",
      "K got Q Clubs\n",
      "132\n",
      "P got J Hearts\n",
      "165\n",
      "K got 10 Hearts\n",
      "142\n",
      "P got 8 Hearts\n",
      "173\n",
      "K got 5 Diamonds\n",
      "147\n",
      "P got 5 Spades\n",
      "178\n",
      "K got Q Spades\n",
      "159\n",
      "P got 4 Diamonds\n",
      "182\n",
      "K got A Hearts\n",
      "160\n",
      "P got 4 Hearts\n",
      "186\n",
      "K got 4 Clubs\n",
      "164\n",
      "P got 3 Spades\n",
      "189\n",
      "K got J Diamonds\n",
      "175\n"
     ]
    }
   ],
   "source": [
    "# Testing alternating drawing from the same deck\n",
    "deck1 = Deck(suitsList,ranksList)\n",
    "pro = Player()\n",
    "tony = Dealer()\n",
    "\n",
    "while len(deck1.getDeck()) > 0:\n",
    "    pro.drawCard(deck1)\n",
    "    pro.getHand()\n",
    "    print(pro.getScore())\n",
    "    \n",
    "    tony.drawCard(deck1)\n",
    "    tony.getHand()\n",
    "    print(tony.getScore())\n",
    "    \n",
    "    deck1.getDeck()"
   ]
  },
  {
   "cell_type": "markdown",
   "metadata": {},
   "source": [
    "***"
   ]
  },
  {
   "cell_type": "markdown",
   "metadata": {},
   "source": [
    "Automated game (testing) part 1."
   ]
  },
  {
   "cell_type": "code",
   "execution_count": 8,
   "metadata": {},
   "outputs": [
    {
     "name": "stdin",
     "output_type": "stream",
     "text": [
      "Please enter your name:  P\n",
      "Please enter your name:  K\n"
     ]
    },
    {
     "name": "stdout",
     "output_type": "stream",
     "text": [
      "P got 10 Hearts\n",
      "K got 9 Clubs\n",
      "P got 9 Diamonds\n",
      "K got 6 Hearts\n",
      "P got Q Spades\n",
      "K got J Clubs\n",
      "You lose!\n"
     ]
    }
   ],
   "source": [
    "# Testing alternating drawing from the same deck\n",
    "deck2 = Deck(suitsList,ranksList)\n",
    "pro = Player()\n",
    "tony = Dealer()\n",
    "\n",
    "while len(deck2.getDeck()) > 0:\n",
    "    pro.drawCard(deck2)\n",
    "    \n",
    "    tony.drawCard(deck2)\n",
    "    \n",
    "    if pro.getScore() > 21:\n",
    "        print(\"You lose!\")\n",
    "        break\n",
    "    elif tony.getScore() > 21:\n",
    "        print(\"Dealer loses!\")\n",
    "        break"
   ]
  },
  {
   "cell_type": "markdown",
   "metadata": {},
   "source": [
    "***\n",
    "#### Hit or Stand \"feature\""
   ]
  },
  {
   "cell_type": "code",
   "execution_count": 9,
   "metadata": {},
   "outputs": [
    {
     "name": "stdin",
     "output_type": "stream",
     "text": [
      "Please enter your name:  P\n",
      "Please enter your name:  K\n",
      "Hit (H) or Stand (S):  H\n"
     ]
    },
    {
     "name": "stdout",
     "output_type": "stream",
     "text": [
      "P got A Hearts\n"
     ]
    },
    {
     "name": "stdin",
     "output_type": "stream",
     "text": [
      "Hit (H) or Stand (S):  H\n"
     ]
    },
    {
     "name": "stdout",
     "output_type": "stream",
     "text": [
      "K got 3 Hearts\n"
     ]
    },
    {
     "name": "stdin",
     "output_type": "stream",
     "text": [
      "Hit (H) or Stand (S):  S\n",
      "Hit (H) or Stand (S):  S\n",
      "Hit (H) or Stand (S):  S\n",
      "Hit (H) or Stand (S):  S\n",
      "Hit (H) or Stand (S):  S\n",
      "Hit (H) or Stand (S):  H\n"
     ]
    },
    {
     "name": "stdout",
     "output_type": "stream",
     "text": [
      "K got 2 Diamonds\n"
     ]
    }
   ],
   "source": [
    "deck3 = Deck(suitsList,ranksList)\n",
    "pro = Player()\n",
    "ben = Player()\n",
    "\n",
    "while len(deck3.getDeck()) > 49:\n",
    "    pro.hitorstand(deck3)\n",
    "    ben.hitorstand(deck3)\n",
    "    "
   ]
  },
  {
   "cell_type": "markdown",
   "metadata": {},
   "source": [
    "***"
   ]
  },
  {
   "cell_type": "markdown",
   "metadata": {},
   "source": [
    "#### Blackjack (Not for fun, i.e. with money.)"
   ]
  },
  {
   "cell_type": "code",
   "execution_count": null,
   "metadata": {},
   "outputs": [],
   "source": []
  }
 ],
 "metadata": {
  "kernelspec": {
   "display_name": "Python 3",
   "language": "python",
   "name": "python3"
  },
  "language_info": {
   "codemirror_mode": {
    "name": "ipython",
    "version": 3
   },
   "file_extension": ".py",
   "mimetype": "text/x-python",
   "name": "python",
   "nbconvert_exporter": "python",
   "pygments_lexer": "ipython3",
   "version": "3.7.4"
  }
 },
 "nbformat": 4,
 "nbformat_minor": 4
}
