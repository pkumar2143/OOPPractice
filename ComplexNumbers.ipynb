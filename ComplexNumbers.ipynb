{
 "cells": [
  {
   "cell_type": "markdown",
   "metadata": {},
   "source": [
    "#### Complex Numbers\n",
    "OOP Practice"
   ]
  },
  {
   "cell_type": "code",
   "execution_count": 43,
   "metadata": {},
   "outputs": [],
   "source": [
    "from math import sqrt\n",
    "\n",
    "class Complex:\n",
    "    \n",
    "    def __init__(self,realp,imagp):\n",
    "        self.real = realp\n",
    "        self.imag = imagp\n",
    "        \n",
    "    def getRealPart(self):\n",
    "        return self.real\n",
    "    \n",
    "    def getImagPart(self):\n",
    "        return self.imag\n",
    "    \n",
    "    def modSq(self):\n",
    "        return (self.real)**2 + (self.imag)**2\n",
    "    \n",
    "    def mod(self):\n",
    "        return sqrt((self.modSq()))\n",
    "    \n",
    "    def conj(self):\n",
    "        return Complex(self.real,-self.imag)\n",
    "    \n",
    "    def __add__(self,num):\n",
    "        \"\"\"Assumes num is also an object of type Complex\n",
    "            Returns a new Complex object\"\"\"\n",
    "        newreal = self.real + num.real\n",
    "        newimag = self.imag + num.imag\n",
    "        return Complex(newreal,newimag)\n",
    "    \n",
    "    def __sub__(self,num):\n",
    "        newreal = self.real - num.real\n",
    "        newimag = self.imag - num.imag\n",
    "        return Complex(newreal,newimag)\n",
    "    \n",
    "    def __mul__(self,num):\n",
    "        first = self.real * num.real\n",
    "        out = self.real * num.imag\n",
    "        inn = self.imag * num.real\n",
    "        last = self.imag * num.imag\n",
    "        return Complex(first - last, out + inn)\n",
    "    \n",
    "    def __truediv__(self,num):\n",
    "        first = self.__mul__(num.conj())\n",
    "        first.real = first.real/num.modSq()\n",
    "        first.imag = first.imag/num.modSq()\n",
    "        return Complex(first.real,first.imag)\n",
    "        \n",
    "    def __str__(self):\n",
    "        return \"(\"+str(self.real)+\")+i(\"+str(self.imag)+\")\""
   ]
  },
  {
   "cell_type": "code",
   "execution_count": 44,
   "metadata": {},
   "outputs": [
    {
     "name": "stdout",
     "output_type": "stream",
     "text": [
      "5\n",
      "2.23606797749979\n",
      "(4)+i(6)\n",
      "(-2)+i(-2)\n",
      "(-5)+i(10)\n",
      "(0.44)+i(0.08)\n"
     ]
    }
   ],
   "source": [
    "n1 = Complex(1,2)\n",
    "n2 = Complex(3,4)\n",
    "print(n1.modSq())\n",
    "print(n1.mod())\n",
    "print(n1+n2)\n",
    "print(n1-n2)\n",
    "print(n1*n2)\n",
    "print(n1/n2)"
   ]
  },
  {
   "cell_type": "code",
   "execution_count": null,
   "metadata": {},
   "outputs": [],
   "source": []
  }
 ],
 "metadata": {
  "kernelspec": {
   "display_name": "Python 3",
   "language": "python",
   "name": "python3"
  },
  "language_info": {
   "codemirror_mode": {
    "name": "ipython",
    "version": 3
   },
   "file_extension": ".py",
   "mimetype": "text/x-python",
   "name": "python",
   "nbconvert_exporter": "python",
   "pygments_lexer": "ipython3",
   "version": "3.7.4"
  }
 },
 "nbformat": 4,
 "nbformat_minor": 4
}
